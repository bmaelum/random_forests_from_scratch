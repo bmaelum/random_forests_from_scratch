{
 "cells": [
  {
   "cell_type": "markdown",
   "metadata": {},
   "source": [
    "# Decision Trees from scratch"
   ]
  },
  {
   "cell_type": "markdown",
   "metadata": {},
   "source": [
    "## Inspiration  \n",
    "* [How To Implement The Decision Tree Algorithm From Scratch In Python](https://machinelearningmastery.com/implement-decision-tree-algorithm-scratch-python/)\n",
    "\n",
    "* [Decision Trees - A simple way to visualize a decision](https://medium.com/greyatom/decision-trees-a-simple-way-to-visualize-a-decision-dc506a403aeb)\n"
   ]
  },
  {
   "cell_type": "markdown",
   "metadata": {},
   "source": [
    "<img src=\"images/gress-gronn-kvister-1125776.jpg\" alt=\"Drawing\" style=\"width: 600px;\"/>"
   ]
  },
  {
   "cell_type": "markdown",
   "metadata": {},
   "source": [
    "# The Basics\n",
    "Powerful as the models are easy to understand by everyone from practitioners to domain experts. A decision tree can explain exactly **why** it predicts a specific prediction. This is very useful when the main purpose is to understand what the prediction model is actually doing. \n",
    "\n",
    "This notebook will go through:\n",
    "* How to calculate and evaluate candidate split points in data\n",
    "* How to arrange splits into a decision tree structure\n",
    "* How to apply the classification and regression tree algorithm"
   ]
  },
  {
   "cell_type": "markdown",
   "metadata": {},
   "source": [
    "# Classification and Regression Trees\n",
    "Classification and Regression Trees (CART) was introduced by Leo Breiman to refer to Decision Tree algorithm that can be used for classification or regression predicitive modelling problems.  \n",
    "\n",
    "This notebook will focus on using CART for classification.  \n",
    "\n",
    "Representation of the CART model is a binary tree. For each node the binary tree can have zero, one or two child nodes.\n",
    "<img src=\"images/CART_tree_titanic_survivors.png\" alt=\"Drawing\" style=\"width: 300px;\"/>\n",
    "\n",
    "A node represents a single input variable X and a split point on that variable, assuming the variable is numeric. The leaf nodes(terminal nodes) of the tree contain an output variable y which is used to make a prediction.  \n",
    "\n",
    "When the tree is created it can be navigated with a new row of data following each branch with the splits until a final prediction is made. \n",
    "\n",
    "**Greedy approach**  \n",
    "Creating a binary decision tree is actually a process of splitting up the input space. A greedy approach is used to divide the space called binary splitting. This is a numerical procedure where all the values are lined up and different split points are tried and tested using a cost function.\n",
    "\n",
    "The split with the lowest cost is selected. All input variables and all possible split points are evaluated and chosen in a greedy manner based on the cost function.\n",
    "\n",
    "* **Regression:** The cost function that is minimized to choose split points is the sum squared error across all training samples that fall within the rectangle. \n",
    "\n",
    "* **Classification:** The Gini cost function is used which provides an indication of how pure the nodes are, where node purity refers to how mixed the training data assigned to each node is.\n",
    "\n",
    "Splitting continues until nodes contain a minimum number of training examples or a maximum depth is reached."
   ]
  },
  {
   "cell_type": "markdown",
   "metadata": {},
   "source": [
    "### Common terms used with Decision Trees:\n",
    "1. **Root Node:** Represents entire population and this further gets divided into two or more homogeneous sets.  \n",
    "\n",
    "\n",
    "2. **Splitting:** The process of dividing a node into two or more sub-nodes  \n",
    "\n",
    "\n",
    "3. **Decision Node:** A sub-node that splits into further sub-nodes\n",
    "\n",
    "\n",
    "4. **Leaf / Terminal Node:** Nodes that do not split are called Leaf or Terminal Nodes\n",
    "\n",
    "\n",
    "5. **Pruning:** When we remove sub-nodes of a decision node.\n",
    "     \n",
    "     \n",
    "6. **Branch / Sub-tree:** A sub-section of the tree\n",
    "\n",
    "\n",
    "7. **Parent and Child Node:** A node that is split into sub-nodes is the parent node whereas sub-nodes are called child nodes.\n",
    "\n",
    "<img src=\"images/decision_tree_diagram.jpg\" alt=\"Drawing\" style=\"width: 300px;\"/>"
   ]
  },
  {
   "cell_type": "markdown",
   "metadata": {},
   "source": [
    "# The Banknote Dataset\n",
    "This dataset involved predicting whether a banknote is authentic given a number of parameters taken from an image."
   ]
  },
  {
   "cell_type": "markdown",
   "metadata": {},
   "source": [
    "**Import dataset**"
   ]
  },
  {
   "cell_type": "code",
   "execution_count": 1,
   "metadata": {},
   "outputs": [],
   "source": [
    "import pandas as pd\n",
    "\n",
    "data = pd.read_csv('data/data_banknote_authentication.txt', sep=\",\", header=None)\n",
    "data.columns = [\"wavelet_var\", \"wavelet_skew\", \"wavelet_kurtosis\", 'entropy', \"class\"]"
   ]
  },
  {
   "cell_type": "code",
   "execution_count": 2,
   "metadata": {},
   "outputs": [
    {
     "data": {
      "text/html": [
       "<div>\n",
       "<style scoped>\n",
       "    .dataframe tbody tr th:only-of-type {\n",
       "        vertical-align: middle;\n",
       "    }\n",
       "\n",
       "    .dataframe tbody tr th {\n",
       "        vertical-align: top;\n",
       "    }\n",
       "\n",
       "    .dataframe thead th {\n",
       "        text-align: right;\n",
       "    }\n",
       "</style>\n",
       "<table border=\"1\" class=\"dataframe\">\n",
       "  <thead>\n",
       "    <tr style=\"text-align: right;\">\n",
       "      <th></th>\n",
       "      <th>wavelet_var</th>\n",
       "      <th>wavelet_skew</th>\n",
       "      <th>wavelet_kurtosis</th>\n",
       "      <th>entropy</th>\n",
       "      <th>class</th>\n",
       "    </tr>\n",
       "  </thead>\n",
       "  <tbody>\n",
       "    <tr>\n",
       "      <th>0</th>\n",
       "      <td>3.62160</td>\n",
       "      <td>8.6661</td>\n",
       "      <td>-2.8073</td>\n",
       "      <td>-0.44699</td>\n",
       "      <td>0</td>\n",
       "    </tr>\n",
       "    <tr>\n",
       "      <th>1</th>\n",
       "      <td>4.54590</td>\n",
       "      <td>8.1674</td>\n",
       "      <td>-2.4586</td>\n",
       "      <td>-1.46210</td>\n",
       "      <td>0</td>\n",
       "    </tr>\n",
       "    <tr>\n",
       "      <th>2</th>\n",
       "      <td>3.86600</td>\n",
       "      <td>-2.6383</td>\n",
       "      <td>1.9242</td>\n",
       "      <td>0.10645</td>\n",
       "      <td>0</td>\n",
       "    </tr>\n",
       "    <tr>\n",
       "      <th>3</th>\n",
       "      <td>3.45660</td>\n",
       "      <td>9.5228</td>\n",
       "      <td>-4.0112</td>\n",
       "      <td>-3.59440</td>\n",
       "      <td>0</td>\n",
       "    </tr>\n",
       "    <tr>\n",
       "      <th>4</th>\n",
       "      <td>0.32924</td>\n",
       "      <td>-4.4552</td>\n",
       "      <td>4.5718</td>\n",
       "      <td>-0.98880</td>\n",
       "      <td>0</td>\n",
       "    </tr>\n",
       "  </tbody>\n",
       "</table>\n",
       "</div>"
      ],
      "text/plain": [
       "   wavelet_var  wavelet_skew  wavelet_kurtosis  entropy  class\n",
       "0      3.62160        8.6661           -2.8073 -0.44699      0\n",
       "1      4.54590        8.1674           -2.4586 -1.46210      0\n",
       "2      3.86600       -2.6383            1.9242  0.10645      0\n",
       "3      3.45660        9.5228           -4.0112 -3.59440      0\n",
       "4      0.32924       -4.4552            4.5718 -0.98880      0"
      ]
     },
     "execution_count": 2,
     "metadata": {},
     "output_type": "execute_result"
    }
   ],
   "source": [
    "data.head()"
   ]
  },
  {
   "cell_type": "code",
   "execution_count": 3,
   "metadata": {},
   "outputs": [],
   "source": [
    "data['class'] = data['class'].astype('category')"
   ]
  },
  {
   "cell_type": "code",
   "execution_count": 4,
   "metadata": {},
   "outputs": [
    {
     "name": "stdout",
     "output_type": "stream",
     "text": [
      "<class 'pandas.core.frame.DataFrame'>\n",
      "RangeIndex: 1372 entries, 0 to 1371\n",
      "Data columns (total 5 columns):\n",
      "wavelet_var         1372 non-null float64\n",
      "wavelet_skew        1372 non-null float64\n",
      "wavelet_kurtosis    1372 non-null float64\n",
      "entropy             1372 non-null float64\n",
      "class               1372 non-null category\n",
      "dtypes: category(1), float64(4)\n",
      "memory usage: 44.4 KB\n"
     ]
    }
   ],
   "source": [
    "data.info()"
   ]
  },
  {
   "cell_type": "code",
   "execution_count": 5,
   "metadata": {},
   "outputs": [
    {
     "data": {
      "text/html": [
       "<div>\n",
       "<style scoped>\n",
       "    .dataframe tbody tr th:only-of-type {\n",
       "        vertical-align: middle;\n",
       "    }\n",
       "\n",
       "    .dataframe tbody tr th {\n",
       "        vertical-align: top;\n",
       "    }\n",
       "\n",
       "    .dataframe thead th {\n",
       "        text-align: right;\n",
       "    }\n",
       "</style>\n",
       "<table border=\"1\" class=\"dataframe\">\n",
       "  <thead>\n",
       "    <tr style=\"text-align: right;\">\n",
       "      <th></th>\n",
       "      <th>wavelet_var</th>\n",
       "      <th>wavelet_skew</th>\n",
       "      <th>wavelet_kurtosis</th>\n",
       "      <th>entropy</th>\n",
       "    </tr>\n",
       "  </thead>\n",
       "  <tbody>\n",
       "    <tr>\n",
       "      <th>count</th>\n",
       "      <td>1372.000000</td>\n",
       "      <td>1372.000000</td>\n",
       "      <td>1372.000000</td>\n",
       "      <td>1372.000000</td>\n",
       "    </tr>\n",
       "    <tr>\n",
       "      <th>mean</th>\n",
       "      <td>0.433735</td>\n",
       "      <td>1.922353</td>\n",
       "      <td>1.397627</td>\n",
       "      <td>-1.191657</td>\n",
       "    </tr>\n",
       "    <tr>\n",
       "      <th>std</th>\n",
       "      <td>2.842763</td>\n",
       "      <td>5.869047</td>\n",
       "      <td>4.310030</td>\n",
       "      <td>2.101013</td>\n",
       "    </tr>\n",
       "    <tr>\n",
       "      <th>min</th>\n",
       "      <td>-7.042100</td>\n",
       "      <td>-13.773100</td>\n",
       "      <td>-5.286100</td>\n",
       "      <td>-8.548200</td>\n",
       "    </tr>\n",
       "    <tr>\n",
       "      <th>25%</th>\n",
       "      <td>-1.773000</td>\n",
       "      <td>-1.708200</td>\n",
       "      <td>-1.574975</td>\n",
       "      <td>-2.413450</td>\n",
       "    </tr>\n",
       "    <tr>\n",
       "      <th>50%</th>\n",
       "      <td>0.496180</td>\n",
       "      <td>2.319650</td>\n",
       "      <td>0.616630</td>\n",
       "      <td>-0.586650</td>\n",
       "    </tr>\n",
       "    <tr>\n",
       "      <th>75%</th>\n",
       "      <td>2.821475</td>\n",
       "      <td>6.814625</td>\n",
       "      <td>3.179250</td>\n",
       "      <td>0.394810</td>\n",
       "    </tr>\n",
       "    <tr>\n",
       "      <th>max</th>\n",
       "      <td>6.824800</td>\n",
       "      <td>12.951600</td>\n",
       "      <td>17.927400</td>\n",
       "      <td>2.449500</td>\n",
       "    </tr>\n",
       "  </tbody>\n",
       "</table>\n",
       "</div>"
      ],
      "text/plain": [
       "       wavelet_var  wavelet_skew  wavelet_kurtosis      entropy\n",
       "count  1372.000000   1372.000000       1372.000000  1372.000000\n",
       "mean      0.433735      1.922353          1.397627    -1.191657\n",
       "std       2.842763      5.869047          4.310030     2.101013\n",
       "min      -7.042100    -13.773100         -5.286100    -8.548200\n",
       "25%      -1.773000     -1.708200         -1.574975    -2.413450\n",
       "50%       0.496180      2.319650          0.616630    -0.586650\n",
       "75%       2.821475      6.814625          3.179250     0.394810\n",
       "max       6.824800     12.951600         17.927400     2.449500"
      ]
     },
     "execution_count": 5,
     "metadata": {},
     "output_type": "execute_result"
    }
   ],
   "source": [
    "data.describe()"
   ]
  },
  {
   "cell_type": "code",
   "execution_count": 6,
   "metadata": {},
   "outputs": [
    {
     "data": {
      "text/plain": [
       "wavelet_var         0\n",
       "wavelet_skew        0\n",
       "wavelet_kurtosis    0\n",
       "entropy             0\n",
       "class               0\n",
       "dtype: int64"
      ]
     },
     "execution_count": 6,
     "metadata": {},
     "output_type": "execute_result"
    }
   ],
   "source": [
    "data.isna().sum()"
   ]
  },
  {
   "cell_type": "code",
   "execution_count": 7,
   "metadata": {},
   "outputs": [
    {
     "data": {
      "text/plain": [
       "[0, 1]\n",
       "Categories (2, int64): [0, 1]"
      ]
     },
     "execution_count": 7,
     "metadata": {},
     "output_type": "execute_result"
    }
   ],
   "source": [
    "data['class'].unique()"
   ]
  },
  {
   "cell_type": "markdown",
   "metadata": {},
   "source": [
    "# Tutorial\n",
    "Broken into 5 parts:\n",
    "1. Gini Index\n",
    "2. Create split\n",
    "3. Build a tree\n",
    "4. Make a Prediction\n",
    "5. Banknote Case Study\n",
    "\n",
    "These steps will provide a foundation to implement the CART algorithm from scratch and apply it to your own predictive modelling problems."
   ]
  },
  {
   "cell_type": "markdown",
   "metadata": {},
   "source": [
    "## 1. Gini Index\n",
    "Gini Index is the cost function used to evaluate splits in the dataset.\n",
    "\n",
    "A split involves one input attribute and one value for that attribute. Can be used to divide training patterns into two groups of rows.\n",
    "\n",
    "A Gini score gives an idea of how good a split is by how mixed the classes are in the two groups created by the split. A perfect separation results in a Gini score of 0. The worst case split results in a Gini score of 0.5 (for a 2 class problem)."
   ]
  },
  {
   "cell_type": "markdown",
   "metadata": {},
   "source": [
    "**Example**  \n",
    "We have two groups of data with 2 rows in each group. The rows in the first group all belong to class 0 and the rows in the second group belongs to class 1, giving a perfect split.\n",
    "\n",
    "We first need to calculate the proportion of classes in each group:\n",
    "\n",
    "proportion = count(class_value) / count(rows)\n",
    "\n",
    "The proportions for this example would be:  \n",
    "group_1_class_0 = 2 / 2 = 1  \n",
    "group_1_class_1 = 0 / 2 = 0  \n",
    "group_2_class_0 = 0 / 2 = 0   \n",
    "group_2_class_1 = 2 / 2 = 1"
   ]
  },
  {
   "cell_type": "markdown",
   "metadata": {},
   "source": [
    "Gini is then calculated for each child node as follows:    "
   ]
  },
  {
   "cell_type": "markdown",
   "metadata": {},
   "source": [
    "gini_index = sum(proportion * (1.0 - proportion))  \n",
    "gini_index = 1.0 - sum(proportion * proportion)"
   ]
  },
  {
   "cell_type": "markdown",
   "metadata": {},
   "source": [
    "The Gini index must be weighted by the size of the group, relative to all of the samples in the parent. Eg. all samples that are currently being grouped. We can add this weighting to the Gini calculation for a group as follows:"
   ]
  },
  {
   "cell_type": "markdown",
   "metadata": {},
   "source": [
    "gini_index = (1.0 - sum(proportion * proportion)) * (group_size / total_samples);"
   ]
  },
  {
   "cell_type": "markdown",
   "metadata": {},
   "source": [
    "In this example the Gini scores for each group are calculated as follows:\n",
    "   "
   ]
  },
  {
   "cell_type": "markdown",
   "metadata": {},
   "source": [
    "Gini(group_1) = (1 - (1 * 1 + 0 * 0)) * 2/4  \n",
    "Gini(group_1) = 0.0 * 0.5   \n",
    "Gini(group_1) = 0.0   \n",
    "Gini(group_2) = (1 - (0 * 0 + 1 * 1)) * 2/4  \n",
    "Gini(group_2) = 0.0 * 0.5   \n",
    "Gini(group_2) = 0.0  "
   ]
  },
  {
   "cell_type": "markdown",
   "metadata": {},
   "source": [
    "The scores are then added across each child node at the split point to give a final Gini score for the split point that can be compared to other candidate split points. \n",
    "\n",
    "The Gini for this split point would then be calculated as 0.0 + 0.0 or a perfect Gini score of 0.0.\n",
    "\n",
    "Below is a function named gini_index() that calculated the Gini index for a list of groups and a list of known class values."
   ]
  },
  {
   "cell_type": "markdown",
   "metadata": {},
   "source": [
    "There are some safety checks to avoid dividing by zero for an empty group."
   ]
  },
  {
   "cell_type": "code",
   "execution_count": 8,
   "metadata": {},
   "outputs": [],
   "source": [
    "# Calculate the Gini index for a split dataset\n",
    "def gini_index(groups, classes):\n",
    "    # count all samples at split point\n",
    "    n_instances = float(sum([len(group) for group in groups]))\n",
    "    # sum weighted Gini index for each group\n",
    "    gini = 0.0\n",
    "    for group in groups:\n",
    "        size = float(len(group))\n",
    "        # avoid divide by zero\n",
    "        if size == 0:\n",
    "            continue\n",
    "        score = 0.0\n",
    "        # score the group based on the score for each class\n",
    "        for class_val in classes:\n",
    "            p = [row[-1] for row in group].count(class_val) / size\n",
    "            score += p * p\n",
    "        # weight the group score by its relative size\n",
    "        gini += (1.0 - score) * (size / n_instances)\n",
    "    return gini"
   ]
  },
  {
   "cell_type": "markdown",
   "metadata": {},
   "source": [
    "The function can be tested with our worked example above: "
   ]
  },
  {
   "cell_type": "code",
   "execution_count": 9,
   "metadata": {},
   "outputs": [
    {
     "data": {
      "text/plain": [
       "0.5"
      ]
     },
     "execution_count": 9,
     "metadata": {},
     "output_type": "execute_result"
    }
   ],
   "source": [
    "gini_index([[[1, 1], [1, 0]], [[1, 1], [1, 0]]], [0, 1])"
   ]
  },
  {
   "cell_type": "markdown",
   "metadata": {},
   "source": [
    "It can also be tested with the worst case of a 50/50 split in each group:"
   ]
  },
  {
   "cell_type": "code",
   "execution_count": 10,
   "metadata": {},
   "outputs": [
    {
     "data": {
      "text/plain": [
       "0.0"
      ]
     },
     "execution_count": 10,
     "metadata": {},
     "output_type": "execute_result"
    }
   ],
   "source": [
    "gini_index([[[1, 0], [1, 0]], [[1, 1], [1, 1]]], [0, 1])"
   ]
  },
  {
   "cell_type": "markdown",
   "metadata": {},
   "source": [
    "## 2. Create split"
   ]
  },
  {
   "cell_type": "markdown",
   "metadata": {},
   "source": [
    "A split is comprised of an attribute in the dataset and a value.  \n",
    "\n",
    "This can be summarized as the index of an attribute to split and the value by which to split rows on that attribute. This is just a useful shorthand for indexing into rows of data.  \n",
    "\n",
    "Creating a split involves three parts:\n",
    "1. Calculating Gini score\n",
    "2. Splitting a dataset\n",
    "3. Evaluating All Splits\n",
    "\n",
    "A we have calculated the Gini score we can move on to splitting a dataset."
   ]
  },
  {
   "cell_type": "markdown",
   "metadata": {},
   "source": [
    "### 2.1 Splitting a Dataset\n",
    "Splitting a dataset means separating a dataset into two lists of rows given the index of an attribute and a split value for that attribute.\n",
    "\n",
    "Once we have the two group we can use our Gini score above to evaluate the cost of the split.\n",
    "\n",
    "Splitting a dataset involves iterating over each row, checking if the attribute value is below or above the split value and assigning it to the left or right group respectively."
   ]
  },
  {
   "cell_type": "markdown",
   "metadata": {},
   "source": [
    "Below is a function named test_split() that implements this procedure:"
   ]
  },
  {
   "cell_type": "code",
   "execution_count": 11,
   "metadata": {},
   "outputs": [],
   "source": [
    "# Split a dataset based on an attribute and an attribute value\n",
    "def test_split(index, value, dataset):\n",
    "    left, right = list(), list()\n",
    "    for row in dataset:\n",
    "        if row[index] < value:\n",
    "            left.append(row)\n",
    "        else:\n",
    "            right.append(row)\n",
    "    return left, right"
   ]
  },
  {
   "cell_type": "markdown",
   "metadata": {},
   "source": [
    "Not much to it.\n",
    "\n",
    "Note that the right group contains all rows with a value at the index above or equal to the split value."
   ]
  },
  {
   "cell_type": "markdown",
   "metadata": {},
   "source": [
    "### 2.2 Evaluating All Splits"
   ]
  },
  {
   "cell_type": "code",
   "execution_count": null,
   "metadata": {},
   "outputs": [],
   "source": []
  },
  {
   "cell_type": "code",
   "execution_count": null,
   "metadata": {},
   "outputs": [],
   "source": []
  },
  {
   "cell_type": "code",
   "execution_count": null,
   "metadata": {},
   "outputs": [],
   "source": []
  },
  {
   "cell_type": "code",
   "execution_count": null,
   "metadata": {},
   "outputs": [],
   "source": []
  }
 ],
 "metadata": {
  "kernelspec": {
   "display_name": "Python 3",
   "language": "python",
   "name": "python3"
  },
  "language_info": {
   "codemirror_mode": {
    "name": "ipython",
    "version": 3
   },
   "file_extension": ".py",
   "mimetype": "text/x-python",
   "name": "python",
   "nbconvert_exporter": "python",
   "pygments_lexer": "ipython3",
   "version": "3.7.3"
  }
 },
 "nbformat": 4,
 "nbformat_minor": 2
}
