{
 "cells": [
  {
   "cell_type": "markdown",
   "metadata": {},
   "source": [
    "# Random Forests algorithm from scratch"
   ]
  },
  {
   "cell_type": "markdown",
   "metadata": {},
   "source": [
    "<img src=\"images/bartre-dagslys-eviggronn-388065.jpg\" alt=\"Drawing\" style=\"width: 600px;\"/>\n"
   ]
  },
  {
   "cell_type": "markdown",
   "metadata": {},
   "source": [
    "This notebook covers how to create a random forest algorithm from scratch."
   ]
  },
  {
   "cell_type": "markdown",
   "metadata": {},
   "source": [
    "## The Basics\n",
    "### What is the Random Forests algorithm?\n",
    "Also called Random Decision Forests. Random Forests is an example of an ensemble machine learning method. An ensemble machine learning method is a way to aggregate less predictive base models to get a better predictive model.\n",
    "\n",
    "Random Forests combines decision trees to form a more generalized model by reducing the well-known over-fitting tendendy of decision trees. Decision trees and random forests can be used for both regression problems as well as for classification. \n",
    "\n",
    "In this notebook I will be solving a regression problem using Random Forests.\n",
    "\n",
    "[**Post on Decision Trees in Machine Learning**](https://towardsdatascience.com/decision-trees-in-machine-learning-641b9c4e8052)\n"
   ]
  },
  {
   "cell_type": "markdown",
   "metadata": {},
   "source": [
    "## Inspiration:\n",
    "* [Random forests and decision trees from scratch in python](https://towardsdatascience.com/random-forests-and-decision-trees-from-scratch-in-python-3e4fa5ae4249)"
   ]
  },
  {
   "cell_type": "markdown",
   "metadata": {},
   "source": [
    "## Sources: \n",
    "* https://en.wikipedia.org/wiki/Random_forest"
   ]
  }
 ],
 "metadata": {
  "kernelspec": {
   "display_name": "Python 3",
   "language": "python",
   "name": "python3"
  },
  "language_info": {
   "codemirror_mode": {
    "name": "ipython",
    "version": 3
   },
   "file_extension": ".py",
   "mimetype": "text/x-python",
   "name": "python",
   "nbconvert_exporter": "python",
   "pygments_lexer": "ipython3",
   "version": "3.7.3"
  }
 },
 "nbformat": 4,
 "nbformat_minor": 2
}
